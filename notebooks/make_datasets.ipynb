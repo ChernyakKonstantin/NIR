{
 "cells": [
  {
   "cell_type": "code",
   "execution_count": 47,
   "metadata": {
    "collapsed": true
   },
   "outputs": [],
   "source": [
    "from fedot.utilities.synth_dataset_generator import classification_dataset, regression_dataset\n",
    "import matplotlib.pyplot as plt\n",
    "import numpy as np\n",
    "import os"
   ]
  },
  {
   "cell_type": "code",
   "execution_count": 48,
   "metadata": {},
   "outputs": [],
   "source": [
    "ROOT_DIR = os.getcwd()"
   ]
  },
  {
   "cell_type": "code",
   "execution_count": 49,
   "metadata": {},
   "outputs": [],
   "source": [
    "# Common dataset properties. Current assumption for fair comparison is that dataset is the same for all models in the dataset.\n",
    "SAMPLES_AMOUNT = int(1e6)\n",
    "FEATURES_AMOUNT  = 20"
   ]
  },
  {
   "cell_type": "code",
   "execution_count": 50,
   "metadata": {},
   "outputs": [],
   "source": [
    "# Classification dataset properties.\n",
    "CLASSES_AMOUNT = 10\n",
    "INFORMATIVE_FEATURES = 13\n",
    "REDUNDANT_FEATURES = 5\n",
    "CLUSTERS_PER_CLASS = 5\n",
    "NOISE_FRACTION = 0.1\n",
    "FULL_SHUFFLE = False\n",
    "WEIGHTS = None\n",
    "\n",
    "assert FEATURES_AMOUNT - INFORMATIVE_FEATURES -REDUNDANT_FEATURES >= 0, \"`FEATURES_AMOUNT` == `INFORMATIVE_FEATURES` + `REDUNDANT_FEATURES` + `REPEATED_FEATURES`\"\n",
    "\n",
    "FEATURE_OPTIONS = {\n",
    "    \"informative\": INFORMATIVE_FEATURES,\n",
    "    \"redundant\": REDUNDANT_FEATURES,\n",
    "    \"repeated\": FEATURES_AMOUNT - INFORMATIVE_FEATURES - REDUNDANT_FEATURES,\n",
    "    \"clusters_per_class\": CLUSTERS_PER_CLASS,\n",
    "\n",
    "}\n",
    "\n",
    "features, target = classification_dataset(SAMPLES_AMOUNT, FEATURES_AMOUNT, CLASSES_AMOUNT, FEATURE_OPTIONS, NOISE_FRACTION, FULL_SHUFFLE, WEIGHTS)\n",
    "\n",
    "directory = os.path.join(ROOT_DIR, \"data\", \"classification_synthetic_dataset\")\n",
    "np.save(os.path.join(directory, \"x.npy\"), features)\n",
    "np.save(os.path.join(directory, \"y.npy\"), target)"
   ]
  },
  {
   "cell_type": "code",
   "execution_count": 51,
   "metadata": {},
   "outputs": [],
   "source": [
    "# Regression dataset properties.\n",
    "INFORMATIVE_FEATURES = 15\n",
    "BIAS = 1.4\n",
    "N_TARGETS = 1\n",
    "NOISE = 0.2\n",
    "SHUFFLE = False\n",
    "\n",
    "FEATURE_OPTIONS = {\n",
    "    \"informative\": INFORMATIVE_FEATURES,\n",
    "    \"bias\": BIAS,\n",
    "}\n",
    "\n",
    "features, target = regression_dataset(SAMPLES_AMOUNT, FEATURES_AMOUNT, FEATURE_OPTIONS, N_TARGETS, NOISE, SHUFFLE)\n",
    "\n",
    "directory = os.path.join(ROOT_DIR, \"data\", \"regression_synthetic_dataset\")\n",
    "np.save(os.path.join(directory, \"x.npy\"), features)\n",
    "np.save(os.path.join(directory, \"y.npy\"), target)"
   ]
  }
 ],
 "metadata": {
  "kernelspec": {
   "display_name": "Python 3.8.6 ('NIR-Bg3KncqP')",
   "language": "python",
   "name": "python3"
  },
  "language_info": {
   "codemirror_mode": {
    "name": "ipython",
    "version": 3
   },
   "file_extension": ".py",
   "mimetype": "text/x-python",
   "name": "python",
   "nbconvert_exporter": "python",
   "pygments_lexer": "ipython3",
   "version": "3.8.6"
  },
  "vscode": {
   "interpreter": {
    "hash": "4e7449631e6211bf47079d4ab4afbebb669c6860ca5177c4fccbd9088f6d5e16"
   }
  }
 },
 "nbformat": 4,
 "nbformat_minor": 0
}
